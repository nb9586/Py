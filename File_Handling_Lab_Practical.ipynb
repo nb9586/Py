{
 "cells": [
  {
   "cell_type": "markdown",
   "id": "edf5ff7c",
   "metadata": {},
   "source": [
    "# 🧪 PP2 Lab Practical – File Handling in Python\n",
    "**Aim:**\n",
    "*To perform file handling operations in Python such as reading, writing, seeking, and checking the existence of text and binary files using appropriate file methods.*"
   ]
  },
  {
   "cell_type": "markdown",
   "id": "ec3ba9a0",
   "metadata": {},
   "source": [
    "## 📘 1. Opening and Closing Files\n",
    "### ➤ Open a text file in read mode and print its content."
   ]
  },
  {
   "cell_type": "code",
   "execution_count": null,
   "id": "39780972",
   "metadata": {},
   "outputs": [],
   "source": [
    "# Your code here"
   ]
  },
  {
   "cell_type": "markdown",
   "id": "052ee945",
   "metadata": {},
   "source": [
    "## ✍️ 2. Writing to a File\n",
    "### ➤ Write multiple lines to a text file, then read and print them."
   ]
  },
  {
   "cell_type": "code",
   "execution_count": null,
   "id": "4e782051",
   "metadata": {},
   "outputs": [],
   "source": [
    "# Your code here"
   ]
  },
  {
   "cell_type": "markdown",
   "id": "97ce3917",
   "metadata": {},
   "source": [
    "## 📦 3. Working with Binary Files\n",
    "### ➤ Write a list of numbers to a binary file and read them back."
   ]
  },
  {
   "cell_type": "code",
   "execution_count": null,
   "id": "fe51ab70",
   "metadata": {},
   "outputs": [],
   "source": [
    "# Your code here"
   ]
  },
  {
   "cell_type": "markdown",
   "id": "b662882f",
   "metadata": {},
   "source": [
    "## 📍 4. Using `seek()` and `tell()`\n",
    "### ➤ Demonstrate how to move the file pointer and display its position."
   ]
  },
  {
   "cell_type": "code",
   "execution_count": null,
   "id": "06b18f0d",
   "metadata": {},
   "outputs": [],
   "source": [
    "# Your code here"
   ]
  },
  {
   "cell_type": "markdown",
   "id": "99e16f74",
   "metadata": {},
   "source": [
    "## ✅ 5. Check if a File Exists\n",
    "### ➤ Check whether a file exists or not using `os` or `pathlib`."
   ]
  },
  {
   "cell_type": "code",
   "execution_count": null,
   "id": "f3382158",
   "metadata": {},
   "outputs": [],
   "source": [
    "# Your code here"
   ]
  },
  {
   "cell_type": "markdown",
   "id": "64499788",
   "metadata": {},
   "source": [
    "## 🧹 6. Working with Directories\n",
    "### ➤ Create a folder, write a file inside it, then list the directory content."
   ]
  },
  {
   "cell_type": "code",
   "execution_count": null,
   "id": "f039121d",
   "metadata": {},
   "outputs": [],
   "source": [
    "# Your code here"
   ]
  },
  {
   "cell_type": "markdown",
   "id": "846b5730",
   "metadata": {},
   "source": [
    "## 🗜️ 7. Zipping and Unzipping Files\n",
    "### ➤ Create a ZIP file with 2–3 text files, then extract it."
   ]
  },
  {
   "cell_type": "code",
   "execution_count": null,
   "id": "411d982c",
   "metadata": {},
   "outputs": [],
   "source": [
    "# Your code here"
   ]
  },
  {
   "cell_type": "markdown",
   "id": "44772643",
   "metadata": {},
   "source": [
    "## ⚙️ 8. Running Another Program\n",
    "### ➤ Run a system command like `calc` (Windows) or `ls` (Linux) using `os.system()` or `subprocess.run()`."
   ]
  },
  {
   "cell_type": "code",
   "execution_count": null,
   "id": "ee4d3b23",
   "metadata": {},
   "outputs": [],
   "source": [
    "# Your code here"
   ]
  },
  {
   "cell_type": "markdown",
   "id": "ab44caa7",
   "metadata": {},
   "source": [
    "## 📌 9. Mini Challenge Task\n",
    "### ➤ Create a program that:\n",
    "- Creates a folder `data`\n",
    "- Writes `\"Hello, File Handling!\"` in a text file inside it\n",
    "- Then compresses that file into a ZIP\n",
    "- Checks if file exists before deletion"
   ]
  },
  {
   "cell_type": "code",
   "execution_count": null,
   "id": "66eee188",
   "metadata": {},
   "outputs": [],
   "source": [
    "# Your code here"
   ]
  },
  {
   "cell_type": "markdown",
   "id": "b82b3703",
   "metadata": {},
   "source": [
    "## ✅ Conclusion\n",
    "Write your observations about:\n",
    "- What you learned\n",
    "- Any errors encountered\n",
    "- Real-world applications of file handling"
   ]
  },
  {
   "cell_type": "markdown",
   "id": "f594d8af",
   "metadata": {},
   "source": [
    "Your notes here..."
   ]
  }
 ],
 "metadata": {},
 "nbformat": 4,
 "nbformat_minor": 5
}
